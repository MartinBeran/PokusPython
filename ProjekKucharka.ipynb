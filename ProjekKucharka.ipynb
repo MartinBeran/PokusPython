{
  "nbformat": 4,
  "nbformat_minor": 0,
  "metadata": {
    "colab": {
      "name": "ProjekKucharka.ipynb",
      "provenance": [],
      "authorship_tag": "ABX9TyNk/P7cNsNbcEF4rEzNnTRy",
      "include_colab_link": true
    },
    "kernelspec": {
      "name": "python3",
      "display_name": "Python 3"
    },
    "language_info": {
      "name": "python"
    }
  },
  "cells": [
    {
      "cell_type": "markdown",
      "metadata": {
        "id": "view-in-github",
        "colab_type": "text"
      },
      "source": [
        "<a href=\"https://colab.research.google.com/github/MartinBeran/PokusPython/blob/Master/ProjekKucharka.ipynb\" target=\"_parent\"><img src=\"https://colab.research.google.com/assets/colab-badge.svg\" alt=\"Open In Colab\"/></a>"
      ]
    },
    {
      "cell_type": "code",
      "metadata": {
        "id": "BPYTqqkHWtNc"
      },
      "source": [
        "f"
      ],
      "execution_count": null,
      "outputs": []
    },
    {
      "cell_type": "code",
      "metadata": {
        "colab": {
          "base_uri": "https://localhost:8080/"
        },
        "id": "3VC4RmVjGyre",
        "outputId": "27f875fb-f611-4646-bd42-ed78d098081f"
      },
      "source": [
        "def kontrola_pismen(jmeno, prijmeni):\n",
        "  while True:\n",
        "    if jmeno.isalpha() and prijmeni.isalpha():\n",
        "      break\n",
        "    elif jmeno.isalpha() and not(prijmeni.isalpha()):\n",
        "       print(\"Zadal jsi špatně příjmení\")\n",
        "       prijmeni = input(\"Další pokus zadej!: \")\n",
        "       \n",
        "    else:\n",
        "      print(\"dal jsi špatně jmeno\")\n",
        "      jmeno = input(\"Další pokus zadej!: \")\n",
        "      \n",
        "def kontrola_veku(kvek) -> bool:\n",
        "  konec = True    \n",
        "  if int(kvek) < 12:\n",
        "    konec = False\n",
        "    print(\"Máš moc nízký věk, neumožněn vstup!\")\n",
        "    return konec\n",
        "  else:\n",
        "    print(\"Jsi dostatecne stary\")\n",
        "def kontrola_email(kemail):\n",
        "  while True:\n",
        "    emailk = False\n",
        "    for znak in kemail:\n",
        "      if znak == \"@\":\n",
        "        emailk = True\n",
        "    if emailk == True:\n",
        "      print(\"Email prošel!\")\n",
        "      break   \n",
        "    else:\n",
        "        kemail = input(\"Email neobsahuje @, prosím zadej znova!\") \n",
        "    \n",
        "def vstupni_udaje():\n",
        "  while True:\n",
        "    jmeno = input(\"Zadej jmého:\")\n",
        "    prijmeni = input(\"Zadej přijemení:\")\n",
        "    kontrola_pismen(jmeno, prijmeni)\n",
        "    vek = input(\"Zadej vek:\")\n",
        "   \n",
        "    if  kontrola_veku(vek) == False:\n",
        "      break\n",
        "    email = input(\"Zadej email:\")\n",
        "    kontrola_email(email)\n",
        "    pokrac = input(\"Chces pokracovat? A/N\")\n",
        "    if pokrac == \"A\":\n",
        "      print(\"pokracujes\")\n",
        "    else:\n",
        "      print(\"Konec\")\n",
        "      break\n",
        "  \n",
        "vstupni_udaje()\n",
        "\n",
        "\n"
      ],
      "execution_count": 54,
      "outputs": [
        {
          "output_type": "stream",
          "name": "stdout",
          "text": [
            "Zadej jmého:fafd\n",
            "Zadej přijemení:sfsd\n",
            "Zadej vek:564\n",
            "Jsi dostatecne stary\n",
            "Zadej email:d\n",
            "Email neobsahuje @, prosím zadej znova!d\n",
            "Email neobsahuje @, prosím zadej znova!d\n",
            "Email neobsahuje @, prosím zadej znova!d@\n",
            "Email prošel!\n",
            "Chces pokracovat? A/Na\n",
            "Konec\n"
          ]
        }
      ]
    },
    {
      "cell_type": "code",
      "metadata": {
        "id": "gV_zKNV4ItBi"
      },
      "source": [
        "-"
      ],
      "execution_count": null,
      "outputs": []
    }
  ]
}