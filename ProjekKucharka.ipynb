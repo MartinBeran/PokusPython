{
  "nbformat": 4,
  "nbformat_minor": 0,
  "metadata": {
    "colab": {
      "name": "ProjekKucharka.ipynb",
      "provenance": [],
      "authorship_tag": "ABX9TyOeOmEmXJ8+P8IOupfusK90",
      "include_colab_link": true
    },
    "kernelspec": {
      "name": "python3",
      "display_name": "Python 3"
    },
    "language_info": {
      "name": "python"
    }
  },
  "cells": [
    {
      "cell_type": "markdown",
      "metadata": {
        "id": "view-in-github",
        "colab_type": "text"
      },
      "source": [
        "<a href=\"https://colab.research.google.com/github/MartinBeran/PokusPython/blob/Master/ProjekKucharka.ipynb\" target=\"_parent\"><img src=\"https://colab.research.google.com/assets/colab-badge.svg\" alt=\"Open In Colab\"/></a>"
      ]
    },
    {
      "cell_type": "code",
      "metadata": {
        "id": "BPYTqqkHWtNc"
      },
      "source": [
        "f"
      ],
      "execution_count": null,
      "outputs": []
    },
    {
      "cell_type": "code",
      "metadata": {
        "colab": {
          "base_uri": "https://localhost:8080/"
        },
        "id": "3VC4RmVjGyre",
        "outputId": "5bad1531-daa2-4fdc-8892-22e32c7ac951"
      },
      "source": [
        "def kontrola_pismen(jmeno, prijmeni):\n",
        "  while True:\n",
        "    if jmeno.isalpha() and prijmeni.isalpha():\n",
        "      break\n",
        "    elif jmeno.isalpha() and not(prijmeni.isalpha()):\n",
        "       print(\"Zadal jsi špatně příjmení\")\n",
        "       prijmeni = input(\"Další pokus zadej!: \")\n",
        "       \n",
        "    else:\n",
        "      print(\"dal jsi špatně jmeno\")\n",
        "      jmeno = input(\"Další pokus zadej!: \")\n",
        "      \n",
        "def kontrola_veku(kvek) -> bool:\n",
        "  konec = True    \n",
        "  if int(kvek) < 12:\n",
        "    konec = False\n",
        "    print(\"Máš moc nízký věk, neumožněn vstup!\")\n",
        "    return konec\n",
        "  else:\n",
        "    print(\"Jsi dostatecne stary\")\n",
        "def kontrola_email(kemail):\n",
        "  while True:\n",
        "    emailk = False\n",
        "    for znak in kemail:\n",
        "      if znak == \"@\":\n",
        "        emailk = True\n",
        "    if emailk == True:\n",
        "      print(\"Email prošel!\")\n",
        "      break   \n",
        "    else:\n",
        "        kemail = input(\"Email neobsahuje @, prosím zadej znova!\") \n",
        "def lajna():\n",
        "  print(\"===========================================\")    \n",
        "def vstupni_udaje():\n",
        "  recepty = {\"palacinky\": \n",
        "           [\" palacinky recept1\", \" mléko, hladka mouka a panvicka\"],\n",
        "\n",
        "           \"omeleta\" : [\" omeleta recept2\",\"potřebujeme hodně vajíček a panvičku.\"],        \n",
        "           \"polevka\" : [\"polevka recept3\",\n",
        "                         \"k cibulačce potřebujeme cibuly\"]\n",
        "          }\n",
        "\n",
        "\n",
        "\n",
        "\n",
        "  while True:\n",
        "    print(\"Vítejte v aplikaci KUCHARKA\")\n",
        "    lajna()\n",
        "    jmeno = input(\"Zadej jmého:\")\n",
        "    prijmeni = input(\"Zadej přijemení:\")\n",
        "    kontrola_pismen(jmeno, prijmeni)\n",
        "    vek = input(\"Zadej vek:\")\n",
        "   \n",
        "    if  kontrola_veku(vek) == False:\n",
        "      break\n",
        "    email = input(\"Zadej email:\")\n",
        "    kontrola_email(email)\n",
        "    lajna()\n",
        "    pokrac = input(\"Chces pokracovat? A/N\")\n",
        "    if pokrac.lower() == \"a\":\n",
        "      print(\"pokracujes\")\n",
        "      lajna()\n",
        "      print(\"Vyber si z našich produktů:\")\n",
        "      for r in recepty.keys():\n",
        "        print(r)\n",
        "      produkt = input(\"Vyber si produkt bez diakritiky\")\n",
        "      lajna()\n",
        "      print(recepty[produkt][0])\n",
        "      lajna()\n",
        "      print(recepty[produkt][1])\n",
        "      lajna()\n",
        "      print(\"Konec applikace\")\n",
        "      lajna()\n",
        "      break\n",
        "    else:\n",
        "      lajna()\n",
        "      print(\"Konec\")\n",
        "      lajna()\n",
        "      break\n",
        "  \n",
        "vstupni_udaje()\n",
        "\n",
        "\n"
      ],
      "execution_count": 9,
      "outputs": [
        {
          "output_type": "stream",
          "name": "stdout",
          "text": [
            "Vítejte v aplikaci KUCHARKA\n",
            "===========================================\n",
            "Zadej jmého:martin\n",
            "Zadej přijemení:beran\n",
            "Zadej vek:444\n",
            "Jsi dostatecne stary\n",
            "Zadej email:mdej@ssss\n",
            "Email prošel!\n",
            "===========================================\n",
            "Chces pokracovat? A/Na\n",
            "pokracujes\n",
            "===========================================\n",
            "Vyber si z našich produktů:\n",
            "palacinky\n",
            "omeleta\n",
            "polevka\n",
            "Vyber si produkt bez diakritikyomeleta\n",
            "===========================================\n",
            " omeleta recept2\n",
            "===========================================\n",
            "potřebujeme hodně vajíček a panvičku.\n",
            "===========================================\n",
            "Konec applikace\n",
            "===========================================\n"
          ]
        }
      ]
    },
    {
      "cell_type": "code",
      "metadata": {
        "id": "gV_zKNV4ItBi"
      },
      "source": [
        "-"
      ],
      "execution_count": null,
      "outputs": []
    }
  ]
}