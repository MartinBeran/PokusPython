{
  "nbformat": 4,
  "nbformat_minor": 0,
  "metadata": {
    "colab": {
      "name": "PrvniPokusS.ipynb",
      "provenance": [],
      "authorship_tag": "ABX9TyPknDNH//tvcGhROWX9sBfI",
      "include_colab_link": true
    },
    "kernelspec": {
      "name": "python3",
      "display_name": "Python 3"
    },
    "language_info": {
      "name": "python"
    }
  },
  "cells": [
    {
      "cell_type": "markdown",
      "metadata": {
        "id": "view-in-github",
        "colab_type": "text"
      },
      "source": [
        "<a href=\"https://colab.research.google.com/github/MartinBeran/r/blob/Master/PrvniPokusS.ipynb\" target=\"_parent\"><img src=\"https://colab.research.google.com/assets/colab-badge.svg\" alt=\"Open In Colab\"/></a>"
      ]
    },
    {
      "cell_type": "code",
      "metadata": {
        "id": "vX7Lupg7F2AI"
      },
      "source": [
        "#prvni pokus presun"
      ],
      "execution_count": null,
      "outputs": []
    },
    {
      "cell_type": "code",
      "metadata": {
        "id": "feiG5vW1LEn2"
      },
      "source": [
        "print(\"ddat\")"
      ],
      "execution_count": null,
      "outputs": []
    }
  ]
}