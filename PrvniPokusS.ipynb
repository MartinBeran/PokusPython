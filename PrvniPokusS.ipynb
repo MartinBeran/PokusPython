{
  "nbformat": 4,
  "nbformat_minor": 0,
  "metadata": {
    "colab": {
      "name": "PrvniPokusS.ipynb",
      "provenance": [],
      "authorship_tag": "ABX9TyMynAkY7MnLmBhUGuv+aQS2",
      "include_colab_link": true
    },
    "kernelspec": {
      "name": "python3",
      "display_name": "Python 3"
    },
    "language_info": {
      "name": "python"
    }
  },
  "cells": [
    {
      "cell_type": "markdown",
      "metadata": {
        "id": "view-in-github",
        "colab_type": "text"
      },
      "source": [
        "<a href=\"https://colab.research.google.com/github/MartinBeran/r/blob/DDDDmain/PrvniPokusS.ipynb\" target=\"_parent\"><img src=\"https://colab.research.google.com/assets/colab-badge.svg\" alt=\"Open In Colab\"/></a>"
      ]
    },
    {
      "cell_type": "code",
      "metadata": {
        "id": "vX7Lupg7F2AI"
      },
      "source": [
        "#prvni pokus presun"
      ],
      "execution_count": null,
      "outputs": []
    }
  ]
}