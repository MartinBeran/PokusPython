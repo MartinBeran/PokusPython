{
  "nbformat": 4,
  "nbformat_minor": 0,
  "metadata": {
    "colab": {
      "name": "PrvniPokusS.ipynb",
      "provenance": [],
      "authorship_tag": "ABX9TyNsehVs9tv7eTkmkePSa+dV",
      "include_colab_link": true
    },
    "kernelspec": {
      "name": "python3",
      "display_name": "Python 3"
    },
    "language_info": {
      "name": "python"
    }
  },
  "cells": [
    {
      "cell_type": "markdown",
      "metadata": {
        "id": "view-in-github",
        "colab_type": "text"
      },
      "source": [
        "<a href=\"https://colab.research.google.com/github/MartinBeran/PokusPython/blob/Master/PrvniPokusS.ipynb\" target=\"_parent\"><img src=\"https://colab.research.google.com/assets/colab-badge.svg\" alt=\"Open In Colab\"/></a>"
      ]
    },
    {
      "cell_type": "code",
      "metadata": {
        "id": "vX7Lupg7F2AI"
      },
      "source": [
        "#prvni pokus presun"
      ],
      "execution_count": null,
      "outputs": []
    },
    {
      "cell_type": "code",
      "metadata": {
        "id": "D_zUQWu3VPLY"
      },
      "source": [
        ""
      ],
      "execution_count": null,
      "outputs": []
    },
    {
      "cell_type": "code",
      "metadata": {
        "id": "CDvm48BafYLf"
      },
      "source": [
        "#vytvor program, ktery doplni tvuj sklad.\n",
        "produkty = [\"bannan\", \"jablko\", \"meloun\"]\n",
        "ceny = [30, 20, 70]"
      ],
      "execution_count": null,
      "outputs": []
    },
    {
      "cell_type": "code",
      "metadata": {
        "id": "BWI0Z52SVReM"
      },
      "source": [
        "\n",
        "produkty = [\"banan\", \"jablko\", \"meloun\"]\n",
        "ceny = [30,20,70]\n",
        "ukonceni = True\n",
        "while ukonceni:\n",
        "  produkt = input(\"Vlož produkt\")\n",
        "  for p in produkty:\n",
        "    if p.upper()  == produkt.upper():    \n",
        "     print(\"Již je v evidenci, zadej znova\")\n",
        "    elif produkt.upper() == \"EXIT\":\n",
        "      ukonceni = False\n",
        "    else :\n",
        "       cena = input(\"Vlož cenu\")\n",
        "       produkty.append(produkt)\n",
        "       ceny.append(cena)\n",
        "       print(produkty)\n",
        "       print(ceny)\n",
        "  if ukonceni == False:\n",
        "    print(\"Zadal jsi ukonceni\")\n",
        "    break \n",
        "  print(produkty)\n",
        "  print(ceny)"
      ],
      "execution_count": null,
      "outputs": []
    }
  ]
}