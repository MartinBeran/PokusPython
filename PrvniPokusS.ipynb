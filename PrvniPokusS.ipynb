{
  "nbformat": 4,
  "nbformat_minor": 0,
  "metadata": {
    "colab": {
      "name": "PrvniPokusS.ipynb",
      "provenance": [],
      "authorship_tag": "ABX9TyM8FaNpE30s7KtOKKf2Sd7g",
      "include_colab_link": true
    },
    "kernelspec": {
      "name": "python3",
      "display_name": "Python 3"
    },
    "language_info": {
      "name": "python"
    }
  },
  "cells": [
    {
      "cell_type": "markdown",
      "metadata": {
        "id": "view-in-github",
        "colab_type": "text"
      },
      "source": [
        "<a href=\"https://colab.research.google.com/github/MartinBeran/PokusPython/blob/Master/PrvniPokusS.ipynb\" target=\"_parent\"><img src=\"https://colab.research.google.com/assets/colab-badge.svg\" alt=\"Open In Colab\"/></a>"
      ]
    },
    {
      "cell_type": "code",
      "metadata": {
        "id": "vX7Lupg7F2AI"
      },
      "source": [
        "#prvni pokus presun"
      ],
      "execution_count": null,
      "outputs": []
    },
    {
      "cell_type": "code",
      "metadata": {
        "id": "cEjbs4ZYjimk",
        "outputId": "1ae7ba54-8dfa-446a-94fe-6075ac135dd1",
        "colab": {
          "base_uri": "https://localhost:8080/"
        }
      },
      "source": [
        "produkty = [\"banan\", \"jablko\", \"meloun\"]\n",
        "ceny = [30,20,70]\n",
        "ukonceni = True\n",
        "while ukonceni:\n",
        "  kontrola = True\n",
        "  produkt = input(\"Vlož produkt: \")\n",
        "  for p in produkty:\n",
        "    if p.upper()  == produkt.upper():    \n",
        "      kontrola = False\n",
        "    if produkt.upper() == \"EXIT\":\n",
        "      ukonceni = False\n",
        "   \n",
        "       \n",
        "  if kontrola == False:\n",
        "\n",
        "     print(\"Zadal jsi produkt, který už máme\")\n",
        "  if kontrola == True and ukonceni == True:\n",
        "    cena = input(\"Vlož cenu: \")\n",
        "    produkty.append(produkt)\n",
        "    ceny.append(cena)\n",
        "  if ukonceni == False:\n",
        "    print(\"Zadal jsi ukonceni\")\n",
        "    break \n",
        "  print(produkty)\n",
        "  print(ceny)"
      ],
      "execution_count": 11,
      "outputs": [
        {
          "output_type": "stream",
          "name": "stdout",
          "text": [
            "Vlož produkt: Exit\n",
            "Zadal jsi ukonceni\n"
          ]
        }
      ]
    },
    {
      "cell_type": "code",
      "metadata": {
        "id": "feiG5vW1LEn2"
      },
      "source": [
        "print(\"ddat\")"
      ],
      "execution_count": null,
      "outputs": []
    }
  ]
}