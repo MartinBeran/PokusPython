{
  "nbformat": 4,
  "nbformat_minor": 0,
  "metadata": {
    "colab": {
      "name": "PrvniPokusS.ipynb",
      "provenance": [],
      "authorship_tag": "ABX9TyO6Go4fLLvR80vUNks9JER5",
      "include_colab_link": true
    },
    "kernelspec": {
      "name": "python3",
      "display_name": "Python 3"
    },
    "language_info": {
      "name": "python"
    }
  },
  "cells": [
    {
      "cell_type": "markdown",
      "metadata": {
        "id": "view-in-github",
        "colab_type": "text"
      },
      "source": [
        "<a href=\"https://colab.research.google.com/github/MartinBeran/PokusPython/blob/Master/PrvniPokusS.ipynb\" target=\"_parent\"><img src=\"https://colab.research.google.com/assets/colab-badge.svg\" alt=\"Open In Colab\"/></a>"
      ]
    },
    {
      "cell_type": "code",
      "metadata": {
        "id": "vX7Lupg7F2AI"
      },
      "source": [
        "#prvni pokus presun"
      ],
      "execution_count": null,
      "outputs": []
    },
    {
      "cell_type": "code",
      "metadata": {
        "colab": {
          "base_uri": "https://localhost:8080/"
        },
        "id": "cEjbs4ZYjimk",
        "outputId": "e956adeb-3fd3-4588-8198-ea8674757bcf"
      },
      "source": [
        "produkty = [\"banan\", \"jablko\", \"meloun\"]\n",
        "ceny = [30,20,70]\n",
        "ukonceni = True\n",
        "def pokus(pocet):\n",
        "  for d in produkty:\n",
        "    pocet = pocet + len(d) + 4\n",
        "  return pocet  + 12\n",
        "       \n",
        "\n",
        "while ukonceni:\n",
        "  kontrola = True\n",
        "  \n",
        "  produkt = input(\"Vlož produkt: \")\n",
        "  for p in produkty:\n",
        "    if p.upper()  == produkt.upper():    \n",
        "      kontrola = False\n",
        "    if produkt.upper() == \"EXIT\":\n",
        "      ukonceni = False        \n",
        "  if kontrola == False:\n",
        "     print(\"Zadal jsi produkt, který už máme\")\n",
        "  if kontrola == True and ukonceni == True:\n",
        "    cena = input(\"Vlož cenu: \")\n",
        "    produkty.append(produkt)\n",
        "    ceny.append(cena)\n",
        "  if ukonceni == False:\n",
        "    print(\"Zadal jsi ukonceni\")\n",
        "    tabulka = \"-\" * pokus(0)\n",
        "    print(tabulka)\n",
        "    print(\"Produkty: \" , produkty)\n",
        "    print(tabulka)\n",
        "    print(\"Ceny: \" , ceny)\n",
        "    print(tabulka)\n",
        "    break \n",
        "  tabulka = \"-\" * pokus(0)\n",
        "\n",
        "\n",
        "  print(tabulka)  \n",
        "  print(\"Produkty :\" , produkty)\n",
        "  print(tabulka)\n",
        "  print(\"Ceny: \" , ceny)\n",
        "  print(tabulka)\n",
        "\n"
      ],
      "execution_count": 22,
      "outputs": [
        {
          "output_type": "stream",
          "name": "stdout",
          "text": [
            "Vlož produkt: dada\n",
            "Vlož cenu: 5\n",
            "-------------------------------------------------\n",
            "Produkty : ['banan', 'jablko', 'meloun', 'dada']\n",
            "-------------------------------------------------\n",
            "Ceny:  [30, 20, 70, '5']\n",
            "-------------------------------------------------\n",
            "Vlož produkt: ds\n",
            "Vlož cenu: 5\n",
            "-------------------------------------------------------\n",
            "Produkty : ['banan', 'jablko', 'meloun', 'dada', 'ds']\n",
            "-------------------------------------------------------\n",
            "Ceny:  [30, 20, 70, '5', '5']\n",
            "-------------------------------------------------------\n",
            "Vlož produkt: exit\n",
            "Zadal jsi ukonceni\n",
            "-------------------------------------------------------\n",
            "Produkty:  ['banan', 'jablko', 'meloun', 'dada', 'ds']\n",
            "-------------------------------------------------------\n",
            "Ceny:  [30, 20, 70, '5', '5']\n",
            "-------------------------------------------------------\n"
          ]
        }
      ]
    },
    {
      "cell_type": "code",
      "metadata": {
        "id": "feiG5vW1LEn2"
      },
      "source": [
        "print(\"ddat\")"
      ],
      "execution_count": null,
      "outputs": []
    }
  ]
}